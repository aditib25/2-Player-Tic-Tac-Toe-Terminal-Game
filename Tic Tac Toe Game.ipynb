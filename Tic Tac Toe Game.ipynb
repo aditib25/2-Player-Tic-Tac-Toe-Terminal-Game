{
 "cells": [
  {
   "cell_type": "code",
   "execution_count": 1,
   "id": "5600585f",
   "metadata": {},
   "outputs": [],
   "source": [
    "#!pip install pygame"
   ]
  },
  {
   "cell_type": "code",
   "execution_count": 13,
   "id": "8214cf40",
   "metadata": {},
   "outputs": [],
   "source": [
    "import pygame as pg,sys\n",
    "from pygame.locals import *\n",
    "import time\n",
    "\n",
    "XO = 'x'\n",
    "winner = None\n",
    "draw = False\n",
    "width = 400\n",
    "height = 400\n",
    "white = (255, 255, 255)\n",
    "line_color = (10,10,10)\n",
    "\n",
    "# TicTacToe Board (3 x 3)\n",
    "TTT = [[None]*3,[None]*3,[None]*3]"
   ]
  },
  {
   "cell_type": "code",
   "execution_count": 14,
   "id": "f2d8459d",
   "metadata": {},
   "outputs": [],
   "source": [
    "pg.init()\n",
    "fps = 30\n",
    "CLOCK = pg.time.Clock()\n",
    "screen = pg.display.set_mode((width, height+100),0,32)\n",
    "pg.display.set_caption(\"TIC TAC TOE\")"
   ]
  },
  {
   "cell_type": "code",
   "execution_count": 15,
   "id": "c28688d3",
   "metadata": {},
   "outputs": [],
   "source": [
    "# loading Images\n",
    "opening = pg.image.load('opening.png')\n",
    "x_img = pg.image.load('x.png')\n",
    "o_img = pg.image.load('o.png')\n",
    "\n",
    "# Resizing the Images\n",
    "x_img = pg.transform.scale(x_img, (80,80))\n",
    "o_img = pg.transform.scale(o_img, (80,80))\n",
    "opening = pg.transform.scale(opening, (width, height+100))"
   ]
  },
  {
   "cell_type": "code",
   "execution_count": 16,
   "id": "3210025c",
   "metadata": {},
   "outputs": [],
   "source": [
    "def game_opening():\n",
    "    \n",
    "    screen.blit(opening,(0,0))\n",
    "    pg.display.update()\n",
    "    time.sleep(1)\n",
    "    screen.fill(white)\n",
    "    \n",
    "    # Drawing Vertical Lines\n",
    "    pg.draw.line(screen,line_color,(width/3,0),(width/3, height),7)\n",
    "    pg.draw.line(screen,line_color,(width/3*2,0),(width/3*2, height),7)\n",
    "    \n",
    "    # Drawing Horizontal lines\n",
    "    pg.draw.line(screen,line_color,(0,height/3),(width, height/3),7)\n",
    "    pg.draw.line(screen,line_color,(0,height/3*2),(width, height/3*2),7)\n",
    "    \n",
    "    draw_status()"
   ]
  },
  {
   "cell_type": "code",
   "execution_count": 17,
   "id": "72a769e9",
   "metadata": {},
   "outputs": [],
   "source": [
    "def draw_status():\n",
    "    \n",
    "    global draw\n",
    "    if winner is None:\n",
    "        message = XO.upper() + \"'s Turn\"\n",
    "    else:\n",
    "        message = winner.upper() + \" won!\"\n",
    "    if draw:\n",
    "        message = 'Game Draw!'\n",
    "        \n",
    "    font = pg.font.Font(None, 30)\n",
    "    text = font.render(message, 1, (255, 255, 255))\n",
    "    screen.fill ((0, 0, 0), (0, 400, 500, 100))\n",
    "    text_rect = text.get_rect(center=(width/2, 500-50))\n",
    "    screen.blit(text, text_rect)\n",
    "    pg.display.update()"
   ]
  },
  {
   "cell_type": "code",
   "execution_count": 18,
   "id": "9ce6ef59",
   "metadata": {},
   "outputs": [],
   "source": [
    "def check_win():\n",
    "    \n",
    "    global TTT, winner,draw\n",
    "    \n",
    "    # Checking for horizontal win (rows)\n",
    "    for row in range (0,3):\n",
    "        if ((TTT [row][0] == TTT[row][1] == TTT[row][2]) and(TTT [row][0] is not None)):\n",
    "            winner = TTT[row][0]\n",
    "            pg.draw.line(screen, (250,0,0), (0, (row + 1)*height/3 -height/6),(width, (row + 1)*height/3 - height/6 ), 4)\n",
    "            break\n",
    "            \n",
    "    # Checking for vertical win (columns)\n",
    "    for col in range (0, 3):\n",
    "        if (TTT[0][col] == TTT[1][col] == TTT[2][col]) and (TTT[0][col] is not None):            \n",
    "            winner = TTT[0][col]\n",
    "            pg.draw.line (screen, (250,0,0),((col + 1)* width/3 - width/6, 0),((col + 1)* width/3 - width/6, height), 4)\n",
    "            break\n",
    "            \n",
    "    # Checking for diagonal win\n",
    "    if (TTT[0][0] == TTT[1][1] == TTT[2][2]) and (TTT[0][0] is not None):\n",
    "        winner = TTT[0][0]\n",
    "        pg.draw.line (screen, (250,70,70), (50, 50), (350, 350), 4)\n",
    "    if (TTT[0][2] == TTT[1][1] == TTT[2][0]) and (TTT[0][2] is not None):\n",
    "        winner = TTT[0][2]\n",
    "        pg.draw.line (screen, (250,70,70), (350, 50), (50, 350), 4)\n",
    "    if(all([all(row) for row in TTT]) and winner is None ):\n",
    "        draw = True\n",
    "        \n",
    "    draw_status()"
   ]
  },
  {
   "cell_type": "code",
   "execution_count": 19,
   "id": "dff6138a",
   "metadata": {},
   "outputs": [],
   "source": [
    "def drawXO(row,col):\n",
    "    global TTT,XO\n",
    "    if row==1:\n",
    "        posx = 30\n",
    "    if row==2:\n",
    "        posx = width/3 + 30\n",
    "    if row==3:\n",
    "        posx = width/3*2 + 30\n",
    "    if col==1:\n",
    "        posy = 30\n",
    "    if col==2:\n",
    "        posy = height/3 + 30\n",
    "    if col==3:\n",
    "        posy = height/3*2 + 30\n",
    "    TTT[row-1][col-1] = XO\n",
    "    if(XO == 'x'):\n",
    "        screen.blit(x_img,(posy,posx))\n",
    "        XO= 'o'\n",
    "    else:\n",
    "        screen.blit(o_img,(posy,posx))\n",
    "        XO= 'x'\n",
    "    pg.display.update()"
   ]
  },
  {
   "cell_type": "code",
   "execution_count": 21,
   "id": "4794635b",
   "metadata": {},
   "outputs": [],
   "source": [
    "def userClick():\n",
    "    \n",
    "    # Coordinates of mouse click\n",
    "    x,y = pg.mouse.get_pos()\n",
    "    \n",
    "    # Column of mouse click\n",
    "    if(x<width/3):\n",
    "        col = 1\n",
    "    elif (x<width/3*2):\n",
    "        col = 2\n",
    "    elif(x<width):\n",
    "        col = 3\n",
    "    else:\n",
    "        col = None\n",
    "        \n",
    "    # Row of mouse click\n",
    "    if(y<height/3):\n",
    "        row = 1\n",
    "    elif (y<height/3*2):\n",
    "        row = 2\n",
    "    elif(y<height):\n",
    "        row = 3\n",
    "    else:\n",
    "        row = None\n",
    "    \n",
    "    if(row and col and TTT[row-1][col-1] is None):\n",
    "        global XO\n",
    "        drawXO(row,col)\n",
    "        check_win()"
   ]
  },
  {
   "cell_type": "code",
   "execution_count": 22,
   "id": "07f0ef55",
   "metadata": {},
   "outputs": [],
   "source": [
    "def reset_game():\n",
    "    global TTT, winner,XO, draw\n",
    "    time.sleep(3)\n",
    "    XO = 'x'\n",
    "    draw = False\n",
    "    game_opening()\n",
    "    winner=None\n",
    "    TTT = [[None]*3,[None]*3,[None]*3]"
   ]
  },
  {
   "cell_type": "code",
   "execution_count": null,
   "id": "f18f4dbb",
   "metadata": {},
   "outputs": [],
   "source": [
    "game_opening()\n",
    "\n",
    "while(True):\n",
    "    for event in pg.event.get():\n",
    "        if event.type == QUIT:\n",
    "            pg.quit()\n",
    "            sys.exit()\n",
    "        elif event.type == MOUSEBUTTONDOWN:\n",
    "            userClick()\n",
    "            if(winner or draw):\n",
    "                reset_game()\n",
    "    pg.display.update()\n",
    "    CLOCK.tick(fps)"
   ]
  }
 ],
 "metadata": {
  "kernelspec": {
   "display_name": "Python 3 (ipykernel)",
   "language": "python",
   "name": "python3"
  },
  "language_info": {
   "codemirror_mode": {
    "name": "ipython",
    "version": 3
   },
   "file_extension": ".py",
   "mimetype": "text/x-python",
   "name": "python",
   "nbconvert_exporter": "python",
   "pygments_lexer": "ipython3",
   "version": "3.9.18"
  }
 },
 "nbformat": 4,
 "nbformat_minor": 5
}
